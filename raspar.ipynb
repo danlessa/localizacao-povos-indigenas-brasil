{
 "cells": [
  {
   "cell_type": "code",
   "execution_count": 35,
   "metadata": {},
   "outputs": [
    {
     "name": "stderr",
     "output_type": "stream",
     "text": [
      "/opt/python/3.10.4/lib/python3.10/site-packages/tqdm/auto.py:22: TqdmWarning: IProgress not found. Please update jupyter and ipywidgets. See https://ipywidgets.readthedocs.io/en/stable/user_install.html\n",
      "  from .autonotebook import tqdm as notebook_tqdm\n"
     ]
    }
   ],
   "source": [
    "import requests as req\n",
    "import pandas as pd\n",
    "from bs4 import BeautifulSoup\n",
    "from tqdm.auto import tqdm"
   ]
  },
  {
   "cell_type": "code",
   "execution_count": 36,
   "metadata": {},
   "outputs": [],
   "source": [
    "base_url = 'https://pib.socioambiental.org'\n",
    "link_1 = base_url + '/pt/Quadro_Geral_dos_Povos'\n",
    "link_3 = base_url +  '/terras-indigenas/{}?id_arp={}'\n"
   ]
  },
  {
   "cell_type": "code",
   "execution_count": 37,
   "metadata": {},
   "outputs": [],
   "source": [
    "r = req.get(link_1)\n",
    "content = r.content\n",
    "soup = BeautifulSoup(content, 'html.parser')\n"
   ]
  },
  {
   "cell_type": "code",
   "execution_count": 38,
   "metadata": {},
   "outputs": [],
   "source": [
    "links = soup.find_all('a')\n",
    "povo_links = [base_url + l.get('href')\n",
    "              for l in links\n",
    "              if '/povo/' in l.get('href')]\n"
   ]
  },
  {
   "cell_type": "code",
   "execution_count": 73,
   "metadata": {},
   "outputs": [
    {
     "name": "stderr",
     "output_type": "stream",
     "text": [
      " 80%|████████  | 4/5 [00:06<00:01,  1.73s/it]"
     ]
    },
    {
     "name": "stdout",
     "output_type": "stream",
     "text": [
      "Ha mais de um link de mapa em https://pib.socioambiental.org/pt/povo/amanaye. Selecionando o primeiro\n"
     ]
    },
    {
     "name": "stderr",
     "output_type": "stream",
     "text": [
      "100%|██████████| 5/5 [00:08<00:00,  1.74s/it]"
     ]
    },
    {
     "name": "stdout",
     "output_type": "stream",
     "text": [
      "Não foram encontrados mapas para https://pib.socioambiental.org/pt/povo/amondawa\n"
     ]
    },
    {
     "name": "stderr",
     "output_type": "stream",
     "text": [
      "\n"
     ]
    }
   ],
   "source": [
    "mapa_povo_links ={}\n",
    "\n",
    "for povo_link in tqdm(povo_links[0:5]):\n",
    "    r = req.get(povo_link)\n",
    "    content = r.content\n",
    "    soup = BeautifulSoup(content, 'html.parser')\n",
    "\n",
    "    links = soup.find_all('a')\n",
    "\n",
    "    mapa_links = [base_url + l.get('href')\n",
    "                  for l in links\n",
    "                  if 'caracterizacao.php' in l.get('href')]\n",
    "\n",
    "    if len(mapa_links) == 1:\n",
    "        mapa_povo_links[povo_link] = mapa_links[0]\n",
    "    elif len(mapa_links) > 1:\n",
    "        print(f'Ha mais de um link de mapa em {povo_link}. Selecionando o primeiro')\n",
    "        mapa_povo_links[povo_link] = mapa_links[0]\n",
    "    elif len(mapa_links) == 0:\n",
    "        print(f'Não foram encontrados mapas para {povo_link}')\n",
    "    else:\n",
    "        pass"
   ]
  },
  {
   "cell_type": "code",
   "execution_count": 71,
   "metadata": {},
   "outputs": [
    {
     "data": {
      "text/plain": [
       "['https://pib.socioambiental.orghttp://pib.socioambiental.org/caracterizacao.php?id_arp=4153',\n",
       " 'https://pib.socioambiental.orghttp://pib.socioambiental.org/caracterizacao.php?id_arp=4154',\n",
       " 'https://pib.socioambiental.orghttp://pib.socioambiental.org/caracterizacao.php?id_arp=4153',\n",
       " 'https://pib.socioambiental.orghttp://pib.socioambiental.org/caracterizacao.php?id_arp=4153']"
      ]
     },
     "execution_count": 71,
     "metadata": {},
     "output_type": "execute_result"
    }
   ],
   "source": [
    "mapa_links"
   ]
  },
  {
   "cell_type": "code",
   "execution_count": 53,
   "metadata": {},
   "outputs": [
    {
     "data": {
      "text/plain": [
       "'https://pib.socioambiental.org/pt/povo/aikana'"
      ]
     },
     "execution_count": 53,
     "metadata": {},
     "output_type": "execute_result"
    }
   ],
   "source": [
    "povo_link"
   ]
  },
  {
   "cell_type": "code",
   "execution_count": 58,
   "metadata": {},
   "outputs": [
    {
     "data": {
      "text/plain": [
       "True"
      ]
     },
     "execution_count": 58,
     "metadata": {},
     "output_type": "execute_result"
    }
   ],
   "source": [
    "'caracterizacao' in str(content)"
   ]
  },
  {
   "cell_type": "code",
   "execution_count": null,
   "metadata": {},
   "outputs": [],
   "source": []
  }
 ],
 "metadata": {
  "kernelspec": {
   "display_name": "Python 3.10.4 64-bit",
   "language": "python",
   "name": "python3"
  },
  "language_info": {
   "codemirror_mode": {
    "name": "ipython",
    "version": 3
   },
   "file_extension": ".py",
   "mimetype": "text/x-python",
   "name": "python",
   "nbconvert_exporter": "python",
   "pygments_lexer": "ipython3",
   "version": "3.10.4"
  },
  "orig_nbformat": 4,
  "vscode": {
   "interpreter": {
    "hash": "4f946df053fbf2b937619d3c5458e7af74262f9a954d8797ba0b27400bcafe06"
   }
  }
 },
 "nbformat": 4,
 "nbformat_minor": 2
}
